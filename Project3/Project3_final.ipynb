{
 "cells": [
  {
   "cell_type": "markdown",
   "metadata": {},
   "source": [
    "# Project 3: Collaboration Competition"
   ]
  },
  {
   "cell_type": "markdown",
   "metadata": {},
   "source": [
    "## Initialize Libraries"
   ]
  },
  {
   "cell_type": "code",
   "execution_count": 1,
   "metadata": {},
   "outputs": [
    {
     "name": "stderr",
     "output_type": "stream",
     "text": [
      "INFO:matplotlib.font_manager:Could not open font file /usr/share/fonts/truetype/noto/NotoColorEmoji.ttf\n"
     ]
    }
   ],
   "source": [
    "from unityagents import UnityEnvironment\n",
    "from maddpg_agents import Group\n",
    "from collections import deque\n",
    "import numpy as np\n",
    "import random\n",
    "import torch\n",
    "import matplotlib.pyplot as plt"
   ]
  },
  {
   "cell_type": "code",
   "execution_count": 2,
   "metadata": {},
   "outputs": [
    {
     "name": "stderr",
     "output_type": "stream",
     "text": [
      "INFO:unityagents:\n",
      "'Academy' started successfully!\n",
      "Unity Academy name: Academy\n",
      "        Number of Brains: 1\n",
      "        Number of External Brains : 1\n",
      "        Lesson number : 0\n",
      "        Reset Parameters :\n",
      "\t\t\n",
      "Unity brain name: TennisBrain\n",
      "        Number of Visual Observations (per agent): 0\n",
      "        Vector Observation space type: continuous\n",
      "        Vector Observation space size (per agent): 8\n",
      "        Number of stacked Vector Observation: 3\n",
      "        Vector Action space type: continuous\n",
      "        Vector Action space size (per agent): 2\n",
      "        Vector Action descriptions: , \n"
     ]
    }
   ],
   "source": [
    "tennis = UnityEnvironment(file_name='./Tennis_Linux/Tennis.x86_64')"
   ]
  },
  {
   "cell_type": "code",
   "execution_count": 3,
   "metadata": {},
   "outputs": [],
   "source": [
    "brain_name = tennis.brain_names[0]\n",
    "brain = tennis.brains[brain_name]"
   ]
  },
  {
   "cell_type": "code",
   "execution_count": 4,
   "metadata": {},
   "outputs": [],
   "source": [
    "tennis_info = tennis.reset(train_mode=True)[brain_name]\n",
    "num_agents = len(tennis_info.agents)\n",
    "action_size = brain.vector_action_space_size\n",
    "state_size = tennis_info.vector_observations.shape[1]"
   ]
  },
  {
   "cell_type": "code",
   "execution_count": 5,
   "metadata": {},
   "outputs": [],
   "source": [
    "multi_agent = Group(num_agents,state_size,action_size,7)"
   ]
  },
  {
   "cell_type": "code",
   "execution_count": 6,
   "metadata": {},
   "outputs": [],
   "source": [
    "def tennis_play(episodes):\n",
    "    done2 = False\n",
    "    score1 = []\n",
    "    score2 = deque(maxlen=100)\n",
    "    \n",
    "    for episode in range(0, episodes):\n",
    "        tennis_info = tennis.reset(train_mode=True)[brain_name]\n",
    "        current_state = tennis_info.vector_observations\n",
    "        episode_scores = np.zeros(num_agents)\n",
    "\n",
    "        while True:\n",
    "            multi_agent.reset_noise()\n",
    "            actions = multi_agent.act(current_state)\n",
    "            tennis_info = tennis.step(actions)[brain_name]\n",
    "            next_state = tennis_info.vector_observations\n",
    "            rewards = tennis_info.rewards\n",
    "            done = tennis_info.local_done\n",
    "            \n",
    "            multi_agent.step(current_state, actions, rewards, next_state, done)\n",
    "            \n",
    "            current_state = next_state\n",
    "            episode_scores = episode_scores + np.array(rewards)\n",
    "            if np.any(done):\n",
    "                break \n",
    "        \n",
    "        score = episode_scores.max()\n",
    "        score1.append(score)\n",
    "        score2.append(score)\n",
    "        if episode % 100 == 0:\n",
    "            print(\"Not done\", episode+1, np.mean(score2))      # Keep printing\n",
    "        if np.mean(score2)>=0.5 and not done2:\n",
    "            done2 = True\n",
    "            print(\"Done !!!\", episode+1, np.mean(score2))\n",
    "            torch.save(multi_agent.checkpoint(), f'checkpoint_multi_agent_0.pth')\n",
    "            \n",
    "    return score1"
   ]
  },
  {
   "cell_type": "code",
   "execution_count": 7,
   "metadata": {},
   "outputs": [
    {
     "name": "stderr",
     "output_type": "stream",
     "text": [
      "/home/keval/anaconda3/envs/drlnd/lib/python3.6/site-packages/torch/nn/functional.py:1320: UserWarning: nn.functional.tanh is deprecated. Use torch.tanh instead.\n",
      "  warnings.warn(\"nn.functional.tanh is deprecated. Use torch.tanh instead.\")\n"
     ]
    },
    {
     "name": "stdout",
     "output_type": "stream",
     "text": [
      "Not done 1 0.0\n",
      "Not done 101 0.0010000000149011613\n",
      "Not done 201 0.011700000185519456\n",
      "Not done 301 0.017400000318884848\n",
      "Not done 401 0.02280000038444996\n",
      "Not done 501 0.009900000188499689\n",
      "Not done 601 0.0\n",
      "Not done 701 0.01790000032633543\n",
      "Not done 801 0.032900000531226395\n",
      "Not done 901 0.038200000673532485\n",
      "Not done 1001 0.04660000070929527\n",
      "Not done 1101 0.0886000013537705\n",
      "Not done 1201 0.12180000185966491\n",
      "Not done 1301 0.17780000273138286\n",
      "Not done 1401 0.1685000026039779\n",
      "Not done 1501 0.4391000066138804\n",
      "Done !!! 1514 0.5043000075779855\n",
      "Not done 1601 0.3451000051759183\n",
      "Not done 1701 0.12540000196546316\n",
      "Not done 1801 0.12410000192001462\n",
      "Not done 1901 0.16480000250041485\n",
      "Not done 2001 0.3786000056564808\n",
      "Not done 2101 0.8778000131249428\n",
      "Not done 2201 0.2937000044621527\n",
      "Not done 2301 0.6183000092767179\n",
      "Not done 2401 0.14760000232607126\n",
      "Not done 2501 0.4618000069260597\n",
      "Not done 2601 0.7008000104501844\n",
      "Not done 2701 0.27700000412762166\n",
      "Not done 2801 0.6668000099435448\n",
      "Not done 2901 0.788000011742115\n"
     ]
    }
   ],
   "source": [
    "scores_final = tennis_play(3000)"
   ]
  },
  {
   "cell_type": "code",
   "execution_count": 9,
   "metadata": {},
   "outputs": [
    {
     "data": {
      "image/png": "[encoded data removed]",
      "text/plain": [
       "<Figure size 432x288 with 1 Axes>"
      ]
     },
     "metadata": {
      "needs_background": "light"
     },
     "output_type": "display_data"
    }
   ],
   "source": [
    "fig = plt.figure()\n",
    "ax = fig.add_subplot(111)\n",
    "plt.plot(np.arange(1, len(scores_final)+1), scores_final)\n",
    "plt.ylabel('Score')\n",
    "plt.xlabel('Episode #')\n",
    "plt.show()"
   ]
  },
  {
   "cell_type": "code",
   "execution_count": null,
   "metadata": {},
   "outputs": [],
   "source": []
  }
 ],
 "metadata": {
  "kernelspec": {
   "display_name": "drlnd",
   "language": "python",
   "name": "drlnd"
  },
  "language_info": {
   "codemirror_mode": {
    "name": "ipython",
    "version": 3
   },
   "file_extension": ".py",
   "mimetype": "text/x-python",
   "name": "python",
   "nbconvert_exporter": "python",
   "pygments_lexer": "ipython3",
   "version": "3.6.8"
  }
 },
 "nbformat": 4,
 "nbformat_minor": 2
}
