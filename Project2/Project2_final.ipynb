{
 "cells": [
  {
   "cell_type": "markdown",
   "metadata": {},
   "source": [
    "# Initialize libraries"
   ]
  },
  {
   "cell_type": "code",
   "execution_count": 1,
   "metadata": {},
   "outputs": [
    {
     "name": "stderr",
     "output_type": "stream",
     "text": [
      "INFO:matplotlib.font_manager:Could not open font file /usr/share/fonts/truetype/noto/NotoColorEmoji.ttf\n"
     ]
    }
   ],
   "source": [
    "from unityagents import UnityEnvironment\n",
    "from collections import deque\n",
    "from datetime import datetime as dt\n",
    "from ddpg_agent import Agent\n",
    "import numpy as np\n",
    "import random\n",
    "import torch\n",
    "import matplotlib.pyplot as plt"
   ]
  },
  {
   "cell_type": "markdown",
   "metadata": {},
   "source": [
    "### Import Environment"
   ]
  },
  {
   "cell_type": "code",
   "execution_count": 2,
   "metadata": {},
   "outputs": [
    {
     "name": "stderr",
     "output_type": "stream",
     "text": [
      "INFO:unityagents:\n",
      "'Academy' started successfully!\n",
      "Unity Academy name: Academy\n",
      "        Number of Brains: 1\n",
      "        Number of External Brains : 1\n",
      "        Lesson number : 0\n",
      "        Reset Parameters :\n",
      "\t\tgoal_speed -> 1.0\n",
      "\t\tgoal_size -> 5.0\n",
      "Unity brain name: ReacherBrain\n",
      "        Number of Visual Observations (per agent): 0\n",
      "        Vector Observation space type: continuous\n",
      "        Vector Observation space size (per agent): 33\n",
      "        Number of stacked Vector Observation: 1\n",
      "        Vector Action space type: continuous\n",
      "        Vector Action space size (per agent): 4\n",
      "        Vector Action descriptions: , , , \n"
     ]
    }
   ],
   "source": [
    "option1 = UnityEnvironment(file_name='Reacher_Linux/Reacher.x86_64')"
   ]
  },
  {
   "cell_type": "code",
   "execution_count": 3,
   "metadata": {},
   "outputs": [],
   "source": [
    "brain_name = option1.brain_names[0]\n",
    "brain = option1.brains[brain_name]"
   ]
  },
  {
   "cell_type": "code",
   "execution_count": 4,
   "metadata": {},
   "outputs": [],
   "source": [
    "option1_info = option1.reset(train_mode=True)[brain_name]\n",
    "assert len(option1_info.agents) == 1\n",
    "action_size = brain.vector_action_space_size\n",
    "state_size = option1_info.vector_observations.shape[1]"
   ]
  },
  {
   "cell_type": "markdown",
   "metadata": {},
   "source": [
    "# Initialize Agent"
   ]
  },
  {
   "cell_type": "code",
   "execution_count": 5,
   "metadata": {},
   "outputs": [],
   "source": [
    "reacher_agent = Agent(state_size,action_size,0)"
   ]
  },
  {
   "cell_type": "code",
   "execution_count": 6,
   "metadata": {},
   "outputs": [],
   "source": [
    "def reacher(episodes,time):\n",
    "    done2 = False\n",
    "    final_target = 30\n",
    "    score1 = []\n",
    "    score2 = deque(maxlen=100)\n",
    "    for episode in range(0, episodes):\n",
    "        option1_info = option1.reset(train_mode=True)[brain_name]   # We select option 1 of the given choices \n",
    "        current_state = option1_info.vector_observations[0]\n",
    "        reacher_agent.reset()\n",
    "        score = 0\n",
    "        for t in range(0,time):\n",
    "            reacher_agent.reset()                               # Reset reacher agent\n",
    "            action = reacher_agent.act(current_state)           # Take action based on current state.\n",
    "            option1_info = option1.step(action)[brain_name]     # Get info from environment based on action \n",
    "            next_state = option1_info.vector_observations[0]\n",
    "            reward = option1_info.rewards[0]                    # Calculate reward recieved for the particular action\n",
    "            done = option1_info.local_done[0]\n",
    "            reacher_agent.step(current_state, action, reward, next_state, done)\n",
    "            current_state = next_state\n",
    "            score = score + reward\n",
    "            if done:\n",
    "                break \n",
    "        score1.append(score)\n",
    "        score2.append(score)\n",
    "        print(\"Not done\", episode+1, np.mean(score2))      # Keep printing\n",
    "        if np.mean(score2)>=30 and not done2:\n",
    "            done2 = True\n",
    "            print(\"Done !!!\", episode+1, np.mean(score2))\n",
    "            torch.save(reacher_agent.actor_local.state_dict(), f'checkpoint_actor_0.pth')\n",
    "            torch.save(reacher_agent.critic_local.state_dict(), f'checkpoint_critic_0.pth')\n",
    "            \n",
    "    return score1\n",
    "    "
   ]
  },
  {
   "cell_type": "markdown",
   "metadata": {},
   "source": [
    "### Run DDPG Algorithm"
   ]
  },
  {
   "cell_type": "code",
   "execution_count": 7,
   "metadata": {
    "scrolled": false
   },
   "outputs": [
    {
     "name": "stderr",
     "output_type": "stream",
     "text": [
      "/home/keval/anaconda3/envs/drlnd/lib/python3.6/site-packages/torch/nn/functional.py:1320: UserWarning: nn.functional.tanh is deprecated. Use torch.tanh instead.\n",
      "  warnings.warn(\"nn.functional.tanh is deprecated. Use torch.tanh instead.\")\n"
     ]
    },
    {
     "name": "stdout",
     "output_type": "stream",
     "text": [
      "Not done 1 0.5599999874830246\n",
      "Not done 2 0.2799999937415123\n",
      "Not done 3 0.47666665601233643\n",
      "Not done 4 0.5699999872595072\n",
      "Not done 5 0.4679999895393848\n",
      "Not done 6 0.5483333210771283\n",
      "Not done 7 0.5928571296057531\n",
      "Not done 8 0.5837499869521707\n",
      "Not done 9 0.6044444309340583\n",
      "Not done 10 0.5949999867007136\n",
      "Not done 11 0.6881818027997558\n",
      "Not done 12 0.6399999856948853\n",
      "Not done 13 0.6107692171174747\n",
      "Not done 14 0.7114285555269036\n",
      "Not done 15 0.6886666512737671\n",
      "Not done 16 0.6843749847030267\n",
      "Not done 17 0.7317646895261372\n",
      "Not done 18 0.7516666498656074\n",
      "Not done 19 0.8584210334443733\n",
      "Not done 20 0.9629999784752726\n",
      "Not done 21 0.9638095022667021\n",
      "Not done 22 1.014999977312982\n",
      "Not done 23 1.040434759353166\n",
      "Not done 24 1.0633333095659812\n",
      "Not done 25 1.055199976414442\n",
      "Not done 26 1.0419230536342814\n",
      "Not done 27 1.058148124496694\n",
      "Not done 28 1.0910714041840817\n",
      "Not done 29 1.1151723888670575\n",
      "Not done 30 1.1419999744743108\n",
      "Not done 31 1.1335483617599933\n",
      "Not done 32 1.1187499749939889\n",
      "Not done 33 1.1596969437757225\n",
      "Not done 34 1.169999973848462\n",
      "Not done 35 1.2194285441722188\n",
      "Not done 36 1.2502777498318918\n",
      "Not done 37 1.3289188892152664\n",
      "Not done 38 1.34789470671431\n",
      "Not done 39 1.364102533612496\n",
      "Not done 40 1.3529999697580934\n",
      "Not done 41 1.431219480204873\n",
      "Not done 42 1.4892856809975845\n",
      "Not done 43 1.5481395002801057\n",
      "Not done 44 1.5879545099609955\n",
      "Not done 45 1.6022221864097648\n",
      "Not done 46 1.6234782245819983\n",
      "Not done 47 1.6672340052876067\n",
      "Not done 48 1.70374996191822\n",
      "Not done 49 1.7306122062157612\n",
      "Not done 50 1.7857999600842596\n",
      "Not done 51 1.8274509395454444\n",
      "Not done 52 1.8455768818250642\n",
      "Not done 53 1.8733961845414255\n",
      "Not done 54 1.9735184744069423\n",
      "Not done 55 2.046545408801599\n",
      "Not done 56 2.0937499532010406\n",
      "Not done 57 2.2057894243809737\n",
      "Not done 58 2.268793052736798\n",
      "Not done 59 2.2928813046823113\n",
      "Not done 60 2.400999946333468\n",
      "Not done 61 2.463278633466021\n",
      "Not done 62 2.5843547809448455\n",
      "Not done 63 2.664920575355017\n",
      "Not done 64 2.696718689723639\n",
      "Not done 65 2.7699999380856752\n",
      "Not done 66 2.9025756926981336\n",
      "Not done 67 2.938208889549793\n",
      "Not done 68 3.015882285530953\n",
      "Not done 69 3.3086955782188023\n",
      "Not done 70 3.5539999205619095\n",
      "Not done 71 3.6635210448744853\n",
      "Not done 72 3.7394443608613477\n",
      "Not done 73 3.9526026513784718\n",
      "Not done 74 4.09594585439442\n",
      "Not done 75 4.133066574285428\n",
      "Not done 76 4.290131483055455\n",
      "Not done 77 4.486753146466497\n",
      "Not done 78 4.638333229658504\n",
      "Not done 79 4.801392297743808\n",
      "Not done 80 4.958874889160507\n",
      "Not done 81 4.993086308148908\n",
      "Not done 82 5.1537803726089075\n",
      "Not done 83 5.335180603640985\n",
      "Not done 84 5.475714163322534\n",
      "Not done 85 5.522117523629876\n",
      "Not done 86 5.666162664049067\n",
      "Not done 87 5.799195272676732\n",
      "Not done 88 5.882272595793686\n",
      "Not done 89 6.106067279249094\n",
      "Not done 90 6.299333192532261\n",
      "Not done 91 6.624175676113957\n",
      "Not done 92 6.789456369982951\n",
      "Not done 93 7.021612746280528\n",
      "Not done 94 7.1470211168473705\n",
      "Not done 95 7.417368255261528\n",
      "Not done 96 7.605416496672357\n",
      "Not done 97 7.829587453861058\n",
      "Not done 98 8.020101861553076\n",
      "Not done 99 8.224343250515034\n",
      "Not done 100 8.508299809824676\n",
      "Not done 101 8.761999804154039\n",
      "Not done 102 9.096399796679616\n",
      "Not done 103 9.220499793905764\n",
      "Not done 104 9.506399787515402\n",
      "Not done 105 9.858799779638648\n",
      "Not done 106 10.157199772968887\n",
      "Not done 107 10.518799764886499\n",
      "Not done 108 10.746799759790301\n",
      "Not done 109 11.101999751850963\n",
      "Not done 110 11.458899743873626\n",
      "Not done 111 11.823799735717476\n",
      "Not done 112 12.214999726973474\n",
      "Not done 113 12.569199719056487\n",
      "Not done 114 12.935699710864574\n",
      "Not done 115 13.286599703021347\n",
      "Not done 116 13.666799694523215\n",
      "Not done 117 14.037699686232955\n",
      "Not done 118 14.313699680063873\n",
      "Not done 119 14.670099672097713\n",
      "Not done 120 15.034599663950504\n",
      "Not done 121 15.413499655481427\n",
      "Not done 122 15.785399647168814\n",
      "Not done 123 16.161499638762326\n",
      "Not done 124 16.530799630507826\n",
      "Not done 125 16.89779962230474\n",
      "Not done 126 17.24849961446598\n",
      "Not done 127 17.600799606591462\n",
      "Not done 128 17.964399598464368\n",
      "Not done 129 18.341899590026586\n",
      "Not done 130 18.64699958320707\n",
      "Not done 131 19.00819957513362\n",
      "Not done 132 19.38099956680089\n",
      "Not done 133 19.74689955862239\n",
      "Not done 134 20.075599551275374\n",
      "Not done 135 20.44089954311028\n",
      "Not done 136 20.7819995354861\n",
      "Not done 137 21.125999527797102\n",
      "Not done 138 21.492599519602955\n",
      "Not done 139 21.85509951150045\n",
      "Not done 140 22.216599503420294\n",
      "Not done 141 22.565999495610594\n",
      "Not done 142 22.913899487834424\n",
      "Not done 143 23.262799480035902\n",
      "Not done 144 23.52369947420433\n",
      "Not done 145 23.8458994670026\n",
      "Not done 146 24.21019945885986\n",
      "Not done 147 24.562499450985342\n",
      "Not done 148 24.89399944357574\n",
      "Not done 149 25.208499436546116\n",
      "Not done 150 25.559199428707363\n",
      "Not done 151 25.88429942144081\n",
      "Not done 152 26.22929941372946\n",
      "Not done 153 26.590699405651538\n",
      "Not done 154 26.90999939851463\n",
      "Not done 155 27.221999391540884\n",
      "Not done 156 27.522899384815247\n",
      "Not done 157 27.81039937838912\n",
      "Not done 158 28.13779937107116\n",
      "Not done 159 28.468299363683908\n",
      "Not done 160 28.740899357590823\n",
      "Not done 161 29.05659935053438\n",
      "Not done 162 29.343299344126134\n",
      "Not done 163 29.65999933704734\n",
      "Not done 164 29.998899329472334\n",
      "Not done 165 30.317399322353303\n",
      "Done !!! 165 30.317399322353303\n",
      "Not done 166 30.58839931629598\n",
      "Not done 167 30.87119930997491\n",
      "Not done 168 31.14619930382818\n",
      "Not done 169 31.27199930101633\n",
      "Not done 170 31.459599296823143\n",
      "Not done 171 31.727399290837347\n",
      "Not done 172 32.0194992843084\n",
      "Not done 173 32.197899280320854\n",
      "Not done 174 32.41079927556217\n",
      "Not done 175 32.701199269071225\n",
      "Not done 176 32.93509926384315\n",
      "Not done 177 33.12899925950914\n",
      "Not done 178 33.314099255371836\n",
      "Not done 179 33.523999250680205\n",
      "Not done 180 33.73249924601987\n",
      "Not done 181 34.040899239126595\n",
      "Not done 182 34.22919923491776\n",
      "Not done 183 34.38849923135713\n",
      "Not done 184 34.60699922647327\n",
      "Not done 185 34.90559921979904\n",
      "Not done 186 35.113799215145406\n",
      "Not done 187 35.33449921021238\n",
      "Not done 188 35.58079920470715\n",
      "Not done 189 35.633199203535916\n",
      "Not done 190 35.793899199943986\n",
      "Not done 191 35.77349920039997\n",
      "Not done 192 35.95179919641465\n",
      "Not done 193 36.04429919434711\n",
      "Not done 194 36.232899190131576\n",
      "Not done 195 36.27429918920621\n",
      "Not done 196 36.38139918681234\n",
      "Not done 197 36.479899184610694\n",
      "Not done 198 36.45859918508679\n",
      "Not done 199 36.561099182795736\n",
      "Not done 200 36.53149918345734\n"
     ]
    }
   ],
   "source": [
    "Result = reacher(200,1000)"
   ]
  },
  {
   "cell_type": "code",
   "execution_count": 9,
   "metadata": {},
   "outputs": [
    {
     "data": {
      "image/png": "[encoded data removed]",
      "text/plain": [
       "<Figure size 432x288 with 1 Axes>"
      ]
     },
     "metadata": {
      "needs_background": "light"
     },
     "output_type": "display_data"
    }
   ],
   "source": [
    "fig = plt.figure()\n",
    "ax = fig.add_subplot(111)\n",
    "plt.plot(np.arange(1, len(Result)+1), Result)\n",
    "plt.ylabel('Score')\n",
    "plt.xlabel('Episode #')\n",
    "plt.show()"
   ]
  },
  {
   "cell_type": "code",
   "execution_count": null,
   "metadata": {},
   "outputs": [],
   "source": []
  },
  {
   "cell_type": "code",
   "execution_count": null,
   "metadata": {},
   "outputs": [],
   "source": []
  }
 ],
 "metadata": {
  "kernelspec": {
   "display_name": "drlnd",
   "language": "python",
   "name": "drlnd"
  },
  "language_info": {
   "codemirror_mode": {
    "name": "ipython",
    "version": 3
   },
   "file_extension": ".py",
   "mimetype": "text/x-python",
   "name": "python",
   "nbconvert_exporter": "python",
   "pygments_lexer": "ipython3",
   "version": "3.6.8"
  }
 },
 "nbformat": 4,
 "nbformat_minor": 2
}
